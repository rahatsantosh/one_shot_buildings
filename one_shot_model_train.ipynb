{
 "cells": [
  {
   "cell_type": "code",
   "execution_count": 1,
   "metadata": {},
   "outputs": [
    {
     "name": "stdout",
     "output_type": "stream",
     "text": [
      "(12168,)\n",
      "(12168, 3, 2048)\n",
      "(12168, 2048)\n"
     ]
    }
   ],
   "source": [
    "import pickle\n",
    "import numpy as np\n",
    "import tensorflow as tf\n",
    "\n",
    "x=pickle.load(open('one_shot_pre_data.pickle','rb'))\n",
    "y=pickle.load(open('one_shot_pre_label.pickle','rb'))\n",
    "z=pickle.load(open('one_shot_pre_data_2.pickle','rb'))\n",
    "\n",
    "print(np.shape(y))\n",
    "print(np.shape(x))\n",
    "print(np.shape(z))"
   ]
  },
  {
   "cell_type": "code",
   "execution_count": 2,
   "metadata": {},
   "outputs": [
    {
     "data": {
      "text/plain": [
       "\"class myCallback(tf.keras.callbacks.Callback):\\n    def on_epoch_end(self, epoch, logs={}):\\n        if logs.get('acc')>0.9980 and logs.get('val_acc')>0.9800:\\n            self.model.stop_training = True\""
      ]
     },
     "execution_count": 2,
     "metadata": {},
     "output_type": "execute_result"
    }
   ],
   "source": [
    "'''class myCallback(tf.keras.callbacks.Callback):\n",
    "    def on_epoch_end(self, epoch, logs={}):\n",
    "        if logs.get('acc')>0.9980 and logs.get('val_acc')>0.9800:\n",
    "            self.model.stop_training = True'''"
   ]
  },
  {
   "cell_type": "code",
   "execution_count": 3,
   "metadata": {},
   "outputs": [
    {
     "name": "stderr",
     "output_type": "stream",
     "text": [
      "Using TensorFlow backend.\n"
     ]
    }
   ],
   "source": [
    "import keras\n",
    "filename=\"metrics.csv\"\n",
    "es=keras.callbacks.EarlyStopping(monitor='val_loss', min_delta=0, patience=3, mode='auto', baseline=None, restore_best_weights=True)\n",
    "csv=keras.callbacks.CSVLogger(filename, separator=',', append=False)\n",
    "checkpoint=keras.callbacks.ModelCheckpoint(\"checkpoints/weights.{epoch:02d}-{val_loss:.2f}-{val_acc:.2f}.hdf5\", monitor='val_acc', verbose=0, save_best_only=False, save_weights_only=False, mode='auto', period=1)"
   ]
  },
  {
   "cell_type": "code",
   "execution_count": 4,
   "metadata": {},
   "outputs": [
    {
     "name": "stdout",
     "output_type": "stream",
     "text": [
      "(12168, 2048, 3)\n",
      "(12168,)\n",
      "(12168, 2048)\n"
     ]
    }
   ],
   "source": [
    "x=np.swapaxes(x,1,2)\n",
    "print(np.shape(x))\n",
    "print(np.shape(y))\n",
    "print(np.shape(z))"
   ]
  },
  {
   "cell_type": "code",
   "execution_count": 5,
   "metadata": {},
   "outputs": [
    {
     "data": {
      "text/plain": [
       "'from keras import backend as K\\n\\ndef recall(y_true, y_pred):\\n        true_positives = K.sum(K.round(K.clip(y_true * y_pred, 0, 1)))\\n        possible_positives = K.sum(K.round(K.clip(y_true, 0, 1)))\\n        recall = true_positives / (possible_positives + K.epsilon())\\n        return recall'"
      ]
     },
     "execution_count": 5,
     "metadata": {},
     "output_type": "execute_result"
    }
   ],
   "source": [
    "'''from keras import backend as K\n",
    "\n",
    "def recall(y_true, y_pred):\n",
    "        true_positives = K.sum(K.round(K.clip(y_true * y_pred, 0, 1)))\n",
    "        possible_positives = K.sum(K.round(K.clip(y_true, 0, 1)))\n",
    "        recall = true_positives / (possible_positives + K.epsilon())\n",
    "        return recall'''"
   ]
  },
  {
   "cell_type": "code",
   "execution_count": 6,
   "metadata": {},
   "outputs": [
    {
     "name": "stdout",
     "output_type": "stream",
     "text": [
      "WARNING:tensorflow:From /home/kitoo/anaconda3/lib/python3.7/site-packages/tensorflow/python/ops/init_ops.py:1251: calling VarianceScaling.__init__ (from tensorflow.python.ops.init_ops) with dtype is deprecated and will be removed in a future version.\n",
      "Instructions for updating:\n",
      "Call initializer instance with the dtype argument instead of passing it to the constructor\n",
      "WARNING:tensorflow:From /home/kitoo/anaconda3/lib/python3.7/site-packages/tensorflow/python/ops/nn_impl.py:180: add_dispatch_support.<locals>.wrapper (from tensorflow.python.ops.array_ops) is deprecated and will be removed in a future version.\n",
      "Instructions for updating:\n",
      "Use tf.where in 2.0, which has the same broadcast rule as np.where\n",
      "Train on 10951 samples, validate on 1217 samples\n",
      "Epoch 1/90\n",
      "10112/10951 [==========================>...] - ETA: 0s - loss: 3.8765 - acc: 0.8266 - recall: 0.8465 - precision: 0.8428WARNING:tensorflow:TensorFlow optimizers do not make it possible to access optimizer attributes or optimizer state after instantiation. As a result, we cannot save the optimizer as part of the model save file. You will have to compile your model again after loading it. Prefer using a Keras optimizer instead (see keras.io/optimizers).\n",
      "10951/10951 [==============================] - 1s 52us/sample - loss: 3.7875 - acc: 0.8337 - recall: 0.8529 - precision: 0.8486 - val_loss: 3.0215 - val_acc: 0.9104 - val_recall: 0.0000e+00 - val_precision: 0.0000e+00\n",
      "Epoch 2/90\n",
      "10240/10951 [===========================>..] - ETA: 0s - loss: 2.2229 - acc: 0.9425 - recall: 0.9568 - precision: 0.9408WARNING:tensorflow:TensorFlow optimizers do not make it possible to access optimizer attributes or optimizer state after instantiation. As a result, we cannot save the optimizer as part of the model save file. You will have to compile your model again after loading it. Prefer using a Keras optimizer instead (see keras.io/optimizers).\n",
      "10951/10951 [==============================] - 0s 30us/sample - loss: 2.2034 - acc: 0.9428 - recall: 0.9568 - precision: 0.9413 - val_loss: 2.1277 - val_acc: 0.9417 - val_recall: 0.0000e+00 - val_precision: 0.0000e+00\n",
      "Epoch 3/90\n",
      " 9856/10951 [==========================>...] - ETA: 0s - loss: 1.6644 - acc: 0.9652 - recall: 0.9746 - precision: 0.9632WARNING:tensorflow:TensorFlow optimizers do not make it possible to access optimizer attributes or optimizer state after instantiation. As a result, we cannot save the optimizer as part of the model save file. You will have to compile your model again after loading it. Prefer using a Keras optimizer instead (see keras.io/optimizers).\n",
      "10951/10951 [==============================] - 0s 30us/sample - loss: 1.6404 - acc: 0.9669 - recall: 0.9758 - precision: 0.9651 - val_loss: 1.6802 - val_acc: 0.9688 - val_recall: 0.0000e+00 - val_precision: 0.0000e+00\n",
      "Epoch 4/90\n",
      " 9472/10951 [========================>.....] - ETA: 0s - loss: 1.4063 - acc: 0.9610 - recall: 0.9647 - precision: 0.9652WARNING:tensorflow:TensorFlow optimizers do not make it possible to access optimizer attributes or optimizer state after instantiation. As a result, we cannot save the optimizer as part of the model save file. You will have to compile your model again after loading it. Prefer using a Keras optimizer instead (see keras.io/optimizers).\n",
      "10951/10951 [==============================] - 0s 30us/sample - loss: 1.5979 - acc: 0.9450 - recall: 0.9510 - precision: 0.9501 - val_loss: 3.0161 - val_acc: 0.9228 - val_recall: 0.0000e+00 - val_precision: 0.0000e+00\n",
      "Epoch 5/90\n",
      " 9344/10951 [========================>.....] - ETA: 0s - loss: 1.4210 - acc: 0.9780 - recall: 0.9819 - precision: 0.9786WARNING:tensorflow:TensorFlow optimizers do not make it possible to access optimizer attributes or optimizer state after instantiation. As a result, we cannot save the optimizer as part of the model save file. You will have to compile your model again after loading it. Prefer using a Keras optimizer instead (see keras.io/optimizers).\n",
      "10951/10951 [==============================] - 0s 31us/sample - loss: 1.3579 - acc: 0.9807 - recall: 0.9845 - precision: 0.9808 - val_loss: 1.1950 - val_acc: 0.9852 - val_recall: 0.0000e+00 - val_precision: 0.0000e+00\n",
      "Epoch 6/90\n",
      " 9088/10951 [=======================>......] - ETA: 0s - loss: 0.9249 - acc: 0.9919 - recall: 0.9941 - precision: 0.9913WARNING:tensorflow:TensorFlow optimizers do not make it possible to access optimizer attributes or optimizer state after instantiation. As a result, we cannot save the optimizer as part of the model save file. You will have to compile your model again after loading it. Prefer using a Keras optimizer instead (see keras.io/optimizers).\n",
      "10951/10951 [==============================] - 0s 32us/sample - loss: 0.9128 - acc: 0.9928 - recall: 0.9951 - precision: 0.9920 - val_loss: 1.1142 - val_acc: 0.9441 - val_recall: 0.0000e+00 - val_precision: 0.0000e+00\n",
      "Epoch 7/90\n",
      " 9472/10951 [========================>.....] - ETA: 0s - loss: 1.6297 - acc: 0.9349 - recall: 0.9430 - precision: 0.9403WARNING:tensorflow:TensorFlow optimizers do not make it possible to access optimizer attributes or optimizer state after instantiation. As a result, we cannot save the optimizer as part of the model save file. You will have to compile your model again after loading it. Prefer using a Keras optimizer instead (see keras.io/optimizers).\n",
      "10951/10951 [==============================] - 0s 31us/sample - loss: 1.5411 - acc: 0.9429 - recall: 0.9502 - precision: 0.9472 - val_loss: 1.1116 - val_acc: 0.9655 - val_recall: 0.0000e+00 - val_precision: 0.0000e+00\n",
      "Epoch 8/90\n",
      "10240/10951 [===========================>..] - ETA: 0s - loss: 0.7262 - acc: 0.9961 - recall: 0.9972 - precision: 0.9958WARNING:tensorflow:TensorFlow optimizers do not make it possible to access optimizer attributes or optimizer state after instantiation. As a result, we cannot save the optimizer as part of the model save file. You will have to compile your model again after loading it. Prefer using a Keras optimizer instead (see keras.io/optimizers).\n",
      "10951/10951 [==============================] - 0s 31us/sample - loss: 0.7215 - acc: 0.9963 - recall: 0.9974 - precision: 0.9959 - val_loss: 0.9626 - val_acc: 0.9211 - val_recall: 0.0000e+00 - val_precision: 0.0000e+00\n",
      "Epoch 9/90\n",
      " 9728/10951 [=========================>....] - ETA: 0s - loss: 1.5760 - acc: 0.9360 - recall: 0.9427 - precision: 0.9425WARNING:tensorflow:TensorFlow optimizers do not make it possible to access optimizer attributes or optimizer state after instantiation. As a result, we cannot save the optimizer as part of the model save file. You will have to compile your model again after loading it. Prefer using a Keras optimizer instead (see keras.io/optimizers).\n",
      "10951/10951 [==============================] - 0s 31us/sample - loss: 1.4944 - acc: 0.9421 - recall: 0.9482 - precision: 0.9476 - val_loss: 1.0814 - val_acc: 0.9277 - val_recall: 0.0000e+00 - val_precision: 0.0000e+00\n",
      "Epoch 10/90\n",
      "10624/10951 [============================>.] - ETA: 0s - loss: 0.6056 - acc: 0.9975 - recall: 0.9981 - precision: 0.9973WARNING:tensorflow:TensorFlow optimizers do not make it possible to access optimizer attributes or optimizer state after instantiation. As a result, we cannot save the optimizer as part of the model save file. You will have to compile your model again after loading it. Prefer using a Keras optimizer instead (see keras.io/optimizers).\n",
      "10951/10951 [==============================] - 0s 33us/sample - loss: 0.6042 - acc: 0.9973 - recall: 0.9980 - precision: 0.9970 - val_loss: 0.7510 - val_acc: 0.9745 - val_recall: 0.0000e+00 - val_precision: 0.0000e+00\n",
      "Epoch 11/90\n",
      "10368/10951 [===========================>..] - ETA: 0s - loss: 0.5175 - acc: 0.9972 - recall: 0.9969 - precision: 0.9981WARNING:tensorflow:TensorFlow optimizers do not make it possible to access optimizer attributes or optimizer state after instantiation. As a result, we cannot save the optimizer as part of the model save file. You will have to compile your model again after loading it. Prefer using a Keras optimizer instead (see keras.io/optimizers).\n",
      "10951/10951 [==============================] - 0s 34us/sample - loss: 0.5430 - acc: 0.9922 - recall: 0.9916 - precision: 0.9944 - val_loss: 6.4937 - val_acc: 0.0994 - val_recall: 0.0000e+00 - val_precision: 0.0000e+00\n"
     ]
    },
    {
     "name": "stdout",
     "output_type": "stream",
     "text": [
      "Epoch 12/90\n",
      " 9728/10951 [=========================>....] - ETA: 0s - loss: 2.4437 - acc: 0.9007 - recall: 0.9067 - precision: 0.9141WARNING:tensorflow:TensorFlow optimizers do not make it possible to access optimizer attributes or optimizer state after instantiation. As a result, we cannot save the optimizer as part of the model save file. You will have to compile your model again after loading it. Prefer using a Keras optimizer instead (see keras.io/optimizers).\n",
      "10951/10951 [==============================] - 0s 31us/sample - loss: 2.2409 - acc: 0.9112 - recall: 0.9168 - precision: 0.9229 - val_loss: 0.8029 - val_acc: 0.9614 - val_recall: 0.0000e+00 - val_precision: 0.0000e+00\n",
      "Epoch 13/90\n",
      "10368/10951 [===========================>..] - ETA: 0s - loss: 0.4716 - acc: 0.9989 - recall: 0.9993 - precision: 0.9988WARNING:tensorflow:TensorFlow optimizers do not make it possible to access optimizer attributes or optimizer state after instantiation. As a result, we cannot save the optimizer as part of the model save file. You will have to compile your model again after loading it. Prefer using a Keras optimizer instead (see keras.io/optimizers).\n",
      "10951/10951 [==============================] - 0s 34us/sample - loss: 0.4687 - acc: 0.9990 - recall: 0.9993 - precision: 0.9988 - val_loss: 0.5779 - val_acc: 0.9770 - val_recall: 0.0000e+00 - val_precision: 0.0000e+00\n",
      "Epoch 14/90\n",
      " 9600/10951 [=========================>....] - ETA: 0s - loss: 0.4082 - acc: 0.9991 - recall: 1.0000 - precision: 0.9983WARNING:tensorflow:TensorFlow optimizers do not make it possible to access optimizer attributes or optimizer state after instantiation. As a result, we cannot save the optimizer as part of the model save file. You will have to compile your model again after loading it. Prefer using a Keras optimizer instead (see keras.io/optimizers).\n",
      "10951/10951 [==============================] - 0s 31us/sample - loss: 0.4077 - acc: 0.9989 - recall: 0.9998 - precision: 0.9982 - val_loss: 0.5307 - val_acc: 0.9910 - val_recall: 0.0000e+00 - val_precision: 0.0000e+00\n",
      "Epoch 15/90\n",
      " 9472/10951 [========================>.....] - ETA: 0s - loss: 0.3894 - acc: 0.9988 - recall: 0.9996 - precision: 0.9983WARNING:tensorflow:TensorFlow optimizers do not make it possible to access optimizer attributes or optimizer state after instantiation. As a result, we cannot save the optimizer as part of the model save file. You will have to compile your model again after loading it. Prefer using a Keras optimizer instead (see keras.io/optimizers).\n",
      "10951/10951 [==============================] - 0s 31us/sample - loss: 0.3856 - acc: 0.9990 - recall: 0.9997 - precision: 0.9985 - val_loss: 0.5282 - val_acc: 0.9770 - val_recall: 0.0000e+00 - val_precision: 0.0000e+00\n",
      "Epoch 16/90\n",
      " 9344/10951 [========================>.....] - ETA: 0s - loss: 0.3729 - acc: 0.9987 - recall: 0.9990 - precision: 0.9987WARNING:tensorflow:TensorFlow optimizers do not make it possible to access optimizer attributes or optimizer state after instantiation. As a result, we cannot save the optimizer as part of the model save file. You will have to compile your model again after loading it. Prefer using a Keras optimizer instead (see keras.io/optimizers).\n",
      "10951/10951 [==============================] - 0s 32us/sample - loss: 1.1968 - acc: 0.9531 - recall: 0.9569 - precision: 0.9585 - val_loss: 8.1963 - val_acc: 0.9252 - val_recall: 0.0000e+00 - val_precision: 0.0000e+00\n",
      "Epoch 17/90\n",
      " 9728/10951 [=========================>....] - ETA: 0s - loss: 2.0166 - acc: 0.9242 - recall: 0.9383 - precision: 0.9258WARNING:tensorflow:TensorFlow optimizers do not make it possible to access optimizer attributes or optimizer state after instantiation. As a result, we cannot save the optimizer as part of the model save file. You will have to compile your model again after loading it. Prefer using a Keras optimizer instead (see keras.io/optimizers).\n",
      "10951/10951 [==============================] - 0s 30us/sample - loss: 1.8421 - acc: 0.9324 - recall: 0.9451 - precision: 0.9340 - val_loss: 0.6010 - val_acc: 0.9704 - val_recall: 0.0000e+00 - val_precision: 0.0000e+00\n",
      "Epoch 18/90\n",
      " 9984/10951 [==========================>...] - ETA: 0s - loss: 0.3631 - acc: 0.9985 - recall: 0.9995 - precision: 0.9978WARNING:tensorflow:TensorFlow optimizers do not make it possible to access optimizer attributes or optimizer state after instantiation. As a result, we cannot save the optimizer as part of the model save file. You will have to compile your model again after loading it. Prefer using a Keras optimizer instead (see keras.io/optimizers).\n",
      "10951/10951 [==============================] - 0s 29us/sample - loss: 0.3624 - acc: 0.9985 - recall: 0.9995 - precision: 0.9979 - val_loss: 0.4797 - val_acc: 0.9803 - val_recall: 0.0000e+00 - val_precision: 0.0000e+00\n",
      "Epoch 19/90\n",
      " 9856/10951 [==========================>...] - ETA: 0s - loss: 0.3534 - acc: 0.9986 - recall: 0.9987 - precision: 0.9987WARNING:tensorflow:TensorFlow optimizers do not make it possible to access optimizer attributes or optimizer state after instantiation. As a result, we cannot save the optimizer as part of the model save file. You will have to compile your model again after loading it. Prefer using a Keras optimizer instead (see keras.io/optimizers).\n",
      "10951/10951 [==============================] - 0s 30us/sample - loss: 0.3946 - acc: 0.9940 - recall: 0.9949 - precision: 0.9943 - val_loss: 1.1128 - val_acc: 0.9622 - val_recall: 0.0000e+00 - val_precision: 0.0000e+00\n",
      "Epoch 20/90\n",
      " 9088/10951 [=======================>......] - ETA: 0s - loss: 0.6302 - acc: 0.9816 - recall: 0.9863 - precision: 0.9806WARNING:tensorflow:TensorFlow optimizers do not make it possible to access optimizer attributes or optimizer state after instantiation. As a result, we cannot save the optimizer as part of the model save file. You will have to compile your model again after loading it. Prefer using a Keras optimizer instead (see keras.io/optimizers).\n",
      "10951/10951 [==============================] - 0s 32us/sample - loss: 0.6026 - acc: 0.9835 - recall: 0.9877 - precision: 0.9827 - val_loss: 0.7515 - val_acc: 0.9384 - val_recall: 0.0000e+00 - val_precision: 0.0000e+00\n",
      "Epoch 21/90\n",
      " 9344/10951 [========================>.....] - ETA: 0s - loss: 0.3527 - acc: 0.9984 - recall: 0.9987 - precision: 0.9985WARNING:tensorflow:TensorFlow optimizers do not make it possible to access optimizer attributes or optimizer state after instantiation. As a result, we cannot save the optimizer as part of the model save file. You will have to compile your model again after loading it. Prefer using a Keras optimizer instead (see keras.io/optimizers).\n",
      "10951/10951 [==============================] - 0s 31us/sample - loss: 0.3516 - acc: 0.9982 - recall: 0.9985 - precision: 0.9982 - val_loss: 0.4623 - val_acc: 0.9951 - val_recall: 0.0000e+00 - val_precision: 0.0000e+00\n",
      "Epoch 22/90\n",
      " 9472/10951 [========================>.....] - ETA: 0s - loss: 1.4033 - acc: 0.9317 - recall: 0.9397 - precision: 0.9381WARNING:tensorflow:TensorFlow optimizers do not make it possible to access optimizer attributes or optimizer state after instantiation. As a result, we cannot save the optimizer as part of the model save file. You will have to compile your model again after loading it. Prefer using a Keras optimizer instead (see keras.io/optimizers).\n",
      "10951/10951 [==============================] - 0s 31us/sample - loss: 1.2679 - acc: 0.9402 - recall: 0.9471 - precision: 0.9454 - val_loss: 0.5218 - val_acc: 0.9704 - val_recall: 0.0000e+00 - val_precision: 0.0000e+00\n",
      "Epoch 23/90\n",
      " 9600/10951 [=========================>....] - ETA: 0s - loss: 0.3134 - acc: 0.9994 - recall: 0.9998 - precision: 0.9991WARNING:tensorflow:TensorFlow optimizers do not make it possible to access optimizer attributes or optimizer state after instantiation. As a result, we cannot save the optimizer as part of the model save file. You will have to compile your model again after loading it. Prefer using a Keras optimizer instead (see keras.io/optimizers).\n",
      "10951/10951 [==============================] - 0s 30us/sample - loss: 0.3154 - acc: 0.9993 - recall: 0.9995 - precision: 0.9992 - val_loss: 0.4232 - val_acc: 0.9819 - val_recall: 0.0000e+00 - val_precision: 0.0000e+00\n"
     ]
    },
    {
     "name": "stdout",
     "output_type": "stream",
     "text": [
      "Epoch 24/90\n",
      " 9728/10951 [=========================>....] - ETA: 0s - loss: 0.6595 - acc: 0.9683 - recall: 0.9706 - precision: 0.9727WARNING:tensorflow:TensorFlow optimizers do not make it possible to access optimizer attributes or optimizer state after instantiation. As a result, we cannot save the optimizer as part of the model save file. You will have to compile your model again after loading it. Prefer using a Keras optimizer instead (see keras.io/optimizers).\n",
      "10951/10951 [==============================] - 0s 30us/sample - loss: 1.0566 - acc: 0.9551 - recall: 0.9592 - precision: 0.9599 - val_loss: 4.0305 - val_acc: 0.8233 - val_recall: 0.0000e+00 - val_precision: 0.0000e+00\n",
      "Epoch 25/90\n",
      " 9728/10951 [=========================>....] - ETA: 0s - loss: 1.1081 - acc: 0.9686 - recall: 0.9757 - precision: 0.9680WARNING:tensorflow:TensorFlow optimizers do not make it possible to access optimizer attributes or optimizer state after instantiation. As a result, we cannot save the optimizer as part of the model save file. You will have to compile your model again after loading it. Prefer using a Keras optimizer instead (see keras.io/optimizers).\n",
      "10951/10951 [==============================] - 0s 30us/sample - loss: 1.0300 - acc: 0.9717 - recall: 0.9783 - precision: 0.9710 - val_loss: 0.5427 - val_acc: 0.9918 - val_recall: 0.0000e+00 - val_precision: 0.0000e+00\n",
      "Epoch 26/90\n",
      " 9472/10951 [========================>.....] - ETA: 0s - loss: 0.3550 - acc: 0.9988 - recall: 0.9994 - precision: 0.9985WARNING:tensorflow:TensorFlow optimizers do not make it possible to access optimizer attributes or optimizer state after instantiation. As a result, we cannot save the optimizer as part of the model save file. You will have to compile your model again after loading it. Prefer using a Keras optimizer instead (see keras.io/optimizers).\n",
      "10951/10951 [==============================] - 0s 34us/sample - loss: 0.3501 - acc: 0.9989 - recall: 0.9995 - precision: 0.9985 - val_loss: 0.4497 - val_acc: 0.9926 - val_recall: 0.0000e+00 - val_precision: 0.0000e+00\n",
      "12168/12168 - 0s - loss: 0.3195 - acc: 0.9979 - recall: 0.9997 - precision: 0.9962\n"
     ]
    },
    {
     "data": {
      "text/plain": [
       "[0.3195364638271495, 0.9979454, 0.9996713, 0.99623257]"
      ]
     },
     "execution_count": 6,
     "metadata": {},
     "output_type": "execute_result"
    }
   ],
   "source": [
    "from keras import regularizers\n",
    "from tensorflow.keras.metrics import Recall,Precision\n",
    "from tensorflow.keras.models import Sequential\n",
    "from tensorflow.keras.layers import Dense,Flatten,Dropout,Activation,Conv1D,MaxPooling1D,Dropout\n",
    "\n",
    "#callbacks = myCallback()\n",
    "\n",
    "model = Sequential()\n",
    "\n",
    "model.add(Flatten(input_shape=(2048,)))\n",
    "\n",
    "model.add(Dense(64,kernel_regularizer=regularizers.l2(0.01),activity_regularizer=regularizers.l1(0.01)))\n",
    "model.add(Activation('relu'))\n",
    "\n",
    "model.add(Dense(32))\n",
    "model.add(Activation('relu'))\n",
    "\n",
    "model.add(Dropout(0.2))\n",
    "\n",
    "model.add(Dense(1))\n",
    "model.add(Activation('sigmoid'))\n",
    "\n",
    "\n",
    "model.compile(optimizer=tf.train.AdamOptimizer(),\n",
    "              loss='binary_crossentropy',\n",
    "              metrics=['accuracy',Recall(),Precision()])\n",
    "\n",
    "\n",
    "model.fit(z, y, epochs=90, batch_size=128, validation_split=0.1, callbacks=[es,csv,checkpoint])\n",
    "\n",
    "\n",
    "model.evaluate(z, y, verbose=2)"
   ]
  },
  {
   "cell_type": "code",
   "execution_count": 7,
   "metadata": {},
   "outputs": [
    {
     "name": "stdout",
     "output_type": "stream",
     "text": [
      "Model: \"sequential\"\n",
      "_________________________________________________________________\n",
      "Layer (type)                 Output Shape              Param #   \n",
      "=================================================================\n",
      "flatten (Flatten)            (None, 2048)              0         \n",
      "_________________________________________________________________\n",
      "dense (Dense)                (None, 64)                131136    \n",
      "_________________________________________________________________\n",
      "activation (Activation)      (None, 64)                0         \n",
      "_________________________________________________________________\n",
      "dense_1 (Dense)              (None, 32)                2080      \n",
      "_________________________________________________________________\n",
      "activation_1 (Activation)    (None, 32)                0         \n",
      "_________________________________________________________________\n",
      "dropout (Dropout)            (None, 32)                0         \n",
      "_________________________________________________________________\n",
      "dense_2 (Dense)              (None, 1)                 33        \n",
      "_________________________________________________________________\n",
      "activation_2 (Activation)    (None, 1)                 0         \n",
      "=================================================================\n",
      "Total params: 133,249\n",
      "Trainable params: 133,249\n",
      "Non-trainable params: 0\n",
      "_________________________________________________________________\n"
     ]
    }
   ],
   "source": [
    "model.summary()"
   ]
  },
  {
   "cell_type": "code",
   "execution_count": 8,
   "metadata": {},
   "outputs": [
    {
     "name": "stdout",
     "output_type": "stream",
     "text": [
      "[[6084    0]\n",
      " [6078    6]]\n"
     ]
    }
   ],
   "source": [
    "y1=model.predict(z)\n",
    "c=tf.math.confusion_matrix(y,y1)\n",
    "with tf.Session() as sess:\n",
    "    confusion=sess.run(c)\n",
    "print(confusion)"
   ]
  },
  {
   "cell_type": "code",
   "execution_count": 9,
   "metadata": {},
   "outputs": [
    {
     "name": "stdout",
     "output_type": "stream",
     "text": [
      "WARNING:tensorflow:TensorFlow optimizers do not make it possible to access optimizer attributes or optimizer state after instantiation. As a result, we cannot save the optimizer as part of the model save file. You will have to compile your model again after loading it. Prefer using a Keras optimizer instead (see keras.io/optimizers).\n"
     ]
    }
   ],
   "source": [
    "model.save('diff_model.h5')"
   ]
  },
  {
   "cell_type": "code",
   "execution_count": 10,
   "metadata": {},
   "outputs": [
    {
     "name": "stdout",
     "output_type": "stream",
     "text": [
      "    epoch       acc      loss  precision    recall   val_acc  val_loss  \\\n",
      "0       0  0.833714  3.787480   0.848569  0.852893  0.910435  3.021529   \n",
      "1       1  0.942836  2.203375   0.941300  0.956772  0.941660  2.127707   \n",
      "2       2  0.966944  1.640365   0.965052  0.975838  0.968776  1.680205   \n",
      "3       3  0.945028  1.597948   0.950082  0.951019  0.922761  3.016136   \n",
      "4       4  0.980732  1.357884   0.980842  0.984550  0.985209  1.194964   \n",
      "5       5  0.992786  0.912820   0.991971  0.995069  0.944125  1.114247   \n",
      "6       6  0.942928  1.541096   0.947239  0.950197  0.965489  1.111589   \n",
      "7       7  0.996256  0.721514   0.995897  0.997370  0.921117  0.962597   \n",
      "8       8  0.942106  1.494387   0.947602  0.948225  0.927691  1.081412   \n",
      "9       9  0.997260  0.604182   0.997044  0.998028  0.974528  0.750969   \n",
      "10     10  0.992238  0.543009   0.994396  0.991617  0.099425  6.493664   \n",
      "11     11  0.911241  2.240870   0.922899  0.916831  0.961380  0.802873   \n",
      "12     12  0.998996  0.468700   0.998850  0.999343  0.976993  0.577900   \n",
      "13     13  0.998904  0.407689   0.998195  0.999836  0.990961  0.530654   \n",
      "14     14  0.998996  0.385640   0.998522  0.999671  0.976993  0.528165   \n",
      "15     15  0.953064  1.196750   0.958512  0.956936  0.925226  8.196309   \n",
      "16     16  0.932426  1.842080   0.934048  0.945102  0.970419  0.600980   \n",
      "17     17  0.998539  0.362393   0.997867  0.999507  0.980279  0.479673   \n",
      "18     18  0.993973  0.394573   0.994251  0.994905  0.962202  1.112832   \n",
      "19     19  0.983472  0.602574   0.982666  0.987673  0.938373  0.751538   \n",
      "20     20  0.998174  0.351612   0.998193  0.998521  0.995070  0.462295   \n",
      "21     21  0.940188  1.267866   0.945365  0.947074  0.970419  0.521810   \n",
      "22     22  0.999269  0.315378   0.999178  0.999507  0.981923  0.423200   \n",
      "23     23  0.955073  1.056591   0.959868  0.959237  0.823336  4.030538   \n",
      "24     24  0.971692  1.029972   0.970962  0.978304  0.991783  0.542660   \n",
      "25     25  0.998904  0.350145   0.998522  0.999507  0.992605  0.449666   \n",
      "\n",
      "    val_precision  val_recall  \n",
      "0             0.0         0.0  \n",
      "1             0.0         0.0  \n",
      "2             0.0         0.0  \n",
      "3             0.0         0.0  \n",
      "4             0.0         0.0  \n",
      "5             0.0         0.0  \n",
      "6             0.0         0.0  \n",
      "7             0.0         0.0  \n",
      "8             0.0         0.0  \n",
      "9             0.0         0.0  \n",
      "10            0.0         0.0  \n",
      "11            0.0         0.0  \n",
      "12            0.0         0.0  \n",
      "13            0.0         0.0  \n",
      "14            0.0         0.0  \n",
      "15            0.0         0.0  \n",
      "16            0.0         0.0  \n",
      "17            0.0         0.0  \n",
      "18            0.0         0.0  \n",
      "19            0.0         0.0  \n",
      "20            0.0         0.0  \n",
      "21            0.0         0.0  \n",
      "22            0.0         0.0  \n",
      "23            0.0         0.0  \n",
      "24            0.0         0.0  \n",
      "25            0.0         0.0  \n"
     ]
    }
   ],
   "source": [
    "import pandas as pd\n",
    "df=pd.read_csv(\"metrics.csv\")\n",
    "print(df)"
   ]
  },
  {
   "cell_type": "code",
   "execution_count": 7,
   "metadata": {},
   "outputs": [],
   "source": [
    "model.load_weights(\"weights.12-0.55.hdf5\")"
   ]
  },
  {
   "cell_type": "code",
   "execution_count": 11,
   "metadata": {},
   "outputs": [
    {
     "name": "stdout",
     "output_type": "stream",
     "text": [
      "12168/12168 [==============================] - 0s 33us/sample - loss: 0.3195 - acc: 0.9979 - recall: 0.9997 - precision: 0.9962\n"
     ]
    },
    {
     "data": {
      "text/plain": [
       "[0.3195364638271495, 0.9979454, 0.9996713, 0.99623257]"
      ]
     },
     "execution_count": 11,
     "metadata": {},
     "output_type": "execute_result"
    }
   ],
   "source": [
    "model.evaluate(z, y, verbose=1)"
   ]
  },
  {
   "cell_type": "code",
   "execution_count": null,
   "metadata": {},
   "outputs": [],
   "source": []
  }
 ],
 "metadata": {
  "kernelspec": {
   "display_name": "Python 3",
   "language": "python",
   "name": "python3"
  },
  "language_info": {
   "codemirror_mode": {
    "name": "ipython",
    "version": 3
   },
   "file_extension": ".py",
   "mimetype": "text/x-python",
   "name": "python",
   "nbconvert_exporter": "python",
   "pygments_lexer": "ipython3",
   "version": "3.7.3"
  }
 },
 "nbformat": 4,
 "nbformat_minor": 2
}
